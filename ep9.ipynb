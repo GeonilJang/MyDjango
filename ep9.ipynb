{
 "cells": [
  {
   "cell_type": "code",
   "execution_count": 2,
   "metadata": {},
   "outputs": [
    {
     "data": {
      "text/plain": [
       "blog.models.Post"
      ]
     },
     "execution_count": 2,
     "metadata": {},
     "output_type": "execute_result"
    }
   ],
   "source": []
  },
  {
   "cell_type": "markdown",
   "metadata": {},
   "source": [
    "# Post.objects"
   ]
  },
  {
   "cell_type": "code",
   "execution_count": 5,
   "metadata": {},
   "outputs": [],
   "source": [
    "##DD"
   ]
  },
  {
   "cell_type": "code",
   "execution_count": null,
   "metadata": {},
   "outputs": [],
   "source": []
  },
  {
   "cell_type": "code",
   "execution_count": 13,
   "metadata": {},
   "outputs": [
    {
     "data": {
      "text/plain": [
       "django.db.models.query.QuerySet"
      ]
     },
     "execution_count": 13,
     "metadata": {},
     "output_type": "execute_result"
    }
   ],
   "source": [
    "Post.objects.all().__class__"
   ]
  },
  {
   "cell_type": "code",
   "execution_count": 14,
   "metadata": {},
   "outputs": [],
   "source": [
    "from django.db import connection"
   ]
  },
  {
   "cell_type": "code",
   "execution_count": 15,
   "metadata": {},
   "outputs": [
    {
     "data": {
      "text/plain": [
       "[]"
      ]
     },
     "execution_count": 15,
     "metadata": {},
     "output_type": "execute_result"
    }
   ],
   "source": [
    "connection.queries[:-1]"
   ]
  },
  {
   "cell_type": "code",
   "execution_count": 18,
   "metadata": {},
   "outputs": [
    {
     "data": {
      "text/plain": [
       "<Post: Post object>"
      ]
     },
     "execution_count": 18,
     "metadata": {},
     "output_type": "execute_result"
    }
   ],
   "source": [
    "Post.objects.create(author=\"geonil\",title=\"테스트 제목\",content=\"테스트 내용\",status='d')"
   ]
  },
  {
   "cell_type": "code",
   "execution_count": 21,
   "metadata": {},
   "outputs": [
    {
     "ename": "FieldError",
     "evalue": "Unsupported lookup 'incontains' for CharField or join on the field not permitted.",
     "output_type": "error",
     "traceback": [
      "\u001b[1;31m--------------------------------------------------------------------------\u001b[0m",
      "\u001b[1;31mFieldError\u001b[0m                               Traceback (most recent call last)",
      "\u001b[1;32m<ipython-input-21-0c885ecc62bb>\u001b[0m in \u001b[0;36m<module>\u001b[1;34m()\u001b[0m\n\u001b[1;32m----> 1\u001b[1;33m \u001b[0mPost\u001b[0m\u001b[1;33m.\u001b[0m\u001b[0mobjects\u001b[0m\u001b[1;33m.\u001b[0m\u001b[0mall\u001b[0m\u001b[1;33m(\u001b[0m\u001b[1;33m)\u001b[0m\u001b[1;33m.\u001b[0m\u001b[0mfilter\u001b[0m\u001b[1;33m(\u001b[0m\u001b[0mtitle__incontains\u001b[0m\u001b[1;33m=\u001b[0m\u001b[1;34m\"테스트\"\u001b[0m\u001b[1;33m)\u001b[0m\u001b[1;33m\u001b[0m\u001b[0m\n\u001b[0m",
      "\u001b[1;32mC:\\Program Files (x86)\\Python36-32\\lib\\site-packages\\django\\db\\models\\query.py\u001b[0m in \u001b[0;36mfilter\u001b[1;34m(self, *args, **kwargs)\u001b[0m\n\u001b[0;32m    794\u001b[0m         \u001b[0mset\u001b[0m\u001b[1;33m.\u001b[0m\u001b[1;33m\u001b[0m\u001b[0m\n\u001b[0;32m    795\u001b[0m         \"\"\"\n\u001b[1;32m--> 796\u001b[1;33m         \u001b[1;32mreturn\u001b[0m \u001b[0mself\u001b[0m\u001b[1;33m.\u001b[0m\u001b[0m_filter_or_exclude\u001b[0m\u001b[1;33m(\u001b[0m\u001b[1;32mFalse\u001b[0m\u001b[1;33m,\u001b[0m \u001b[1;33m*\u001b[0m\u001b[0margs\u001b[0m\u001b[1;33m,\u001b[0m \u001b[1;33m**\u001b[0m\u001b[0mkwargs\u001b[0m\u001b[1;33m)\u001b[0m\u001b[1;33m\u001b[0m\u001b[0m\n\u001b[0m\u001b[0;32m    797\u001b[0m \u001b[1;33m\u001b[0m\u001b[0m\n\u001b[0;32m    798\u001b[0m     \u001b[1;32mdef\u001b[0m \u001b[0mexclude\u001b[0m\u001b[1;33m(\u001b[0m\u001b[0mself\u001b[0m\u001b[1;33m,\u001b[0m \u001b[1;33m*\u001b[0m\u001b[0margs\u001b[0m\u001b[1;33m,\u001b[0m \u001b[1;33m**\u001b[0m\u001b[0mkwargs\u001b[0m\u001b[1;33m)\u001b[0m\u001b[1;33m:\u001b[0m\u001b[1;33m\u001b[0m\u001b[0m\n",
      "\u001b[1;32mC:\\Program Files (x86)\\Python36-32\\lib\\site-packages\\django\\db\\models\\query.py\u001b[0m in \u001b[0;36m_filter_or_exclude\u001b[1;34m(self, negate, *args, **kwargs)\u001b[0m\n\u001b[0;32m    812\u001b[0m             \u001b[0mclone\u001b[0m\u001b[1;33m.\u001b[0m\u001b[0mquery\u001b[0m\u001b[1;33m.\u001b[0m\u001b[0madd_q\u001b[0m\u001b[1;33m(\u001b[0m\u001b[1;33m~\u001b[0m\u001b[0mQ\u001b[0m\u001b[1;33m(\u001b[0m\u001b[1;33m*\u001b[0m\u001b[0margs\u001b[0m\u001b[1;33m,\u001b[0m \u001b[1;33m**\u001b[0m\u001b[0mkwargs\u001b[0m\u001b[1;33m)\u001b[0m\u001b[1;33m)\u001b[0m\u001b[1;33m\u001b[0m\u001b[0m\n\u001b[0;32m    813\u001b[0m         \u001b[1;32melse\u001b[0m\u001b[1;33m:\u001b[0m\u001b[1;33m\u001b[0m\u001b[0m\n\u001b[1;32m--> 814\u001b[1;33m             \u001b[0mclone\u001b[0m\u001b[1;33m.\u001b[0m\u001b[0mquery\u001b[0m\u001b[1;33m.\u001b[0m\u001b[0madd_q\u001b[0m\u001b[1;33m(\u001b[0m\u001b[0mQ\u001b[0m\u001b[1;33m(\u001b[0m\u001b[1;33m*\u001b[0m\u001b[0margs\u001b[0m\u001b[1;33m,\u001b[0m \u001b[1;33m**\u001b[0m\u001b[0mkwargs\u001b[0m\u001b[1;33m)\u001b[0m\u001b[1;33m)\u001b[0m\u001b[1;33m\u001b[0m\u001b[0m\n\u001b[0m\u001b[0;32m    815\u001b[0m         \u001b[1;32mreturn\u001b[0m \u001b[0mclone\u001b[0m\u001b[1;33m\u001b[0m\u001b[0m\n\u001b[0;32m    816\u001b[0m \u001b[1;33m\u001b[0m\u001b[0m\n",
      "\u001b[1;32mC:\\Program Files (x86)\\Python36-32\\lib\\site-packages\\django\\db\\models\\sql\\query.py\u001b[0m in \u001b[0;36madd_q\u001b[1;34m(self, q_object)\u001b[0m\n\u001b[0;32m   1225\u001b[0m         existing_inner = set(\n\u001b[0;32m   1226\u001b[0m             (a for a in self.alias_map if self.alias_map[a].join_type == INNER))\n\u001b[1;32m-> 1227\u001b[1;33m         \u001b[0mclause\u001b[0m\u001b[1;33m,\u001b[0m \u001b[0m_\u001b[0m \u001b[1;33m=\u001b[0m \u001b[0mself\u001b[0m\u001b[1;33m.\u001b[0m\u001b[0m_add_q\u001b[0m\u001b[1;33m(\u001b[0m\u001b[0mq_object\u001b[0m\u001b[1;33m,\u001b[0m \u001b[0mself\u001b[0m\u001b[1;33m.\u001b[0m\u001b[0mused_aliases\u001b[0m\u001b[1;33m)\u001b[0m\u001b[1;33m\u001b[0m\u001b[0m\n\u001b[0m\u001b[0;32m   1228\u001b[0m         \u001b[1;32mif\u001b[0m \u001b[0mclause\u001b[0m\u001b[1;33m:\u001b[0m\u001b[1;33m\u001b[0m\u001b[0m\n\u001b[0;32m   1229\u001b[0m             \u001b[0mself\u001b[0m\u001b[1;33m.\u001b[0m\u001b[0mwhere\u001b[0m\u001b[1;33m.\u001b[0m\u001b[0madd\u001b[0m\u001b[1;33m(\u001b[0m\u001b[0mclause\u001b[0m\u001b[1;33m,\u001b[0m \u001b[0mAND\u001b[0m\u001b[1;33m)\u001b[0m\u001b[1;33m\u001b[0m\u001b[0m\n",
      "\u001b[1;32mC:\\Program Files (x86)\\Python36-32\\lib\\site-packages\\django\\db\\models\\sql\\query.py\u001b[0m in \u001b[0;36m_add_q\u001b[1;34m(self, q_object, used_aliases, branch_negated, current_negated, allow_joins, split_subq)\u001b[0m\n\u001b[0;32m   1251\u001b[0m                     \u001b[0mchild\u001b[0m\u001b[1;33m,\u001b[0m \u001b[0mcan_reuse\u001b[0m\u001b[1;33m=\u001b[0m\u001b[0mused_aliases\u001b[0m\u001b[1;33m,\u001b[0m \u001b[0mbranch_negated\u001b[0m\u001b[1;33m=\u001b[0m\u001b[0mbranch_negated\u001b[0m\u001b[1;33m,\u001b[0m\u001b[1;33m\u001b[0m\u001b[0m\n\u001b[0;32m   1252\u001b[0m                     \u001b[0mcurrent_negated\u001b[0m\u001b[1;33m=\u001b[0m\u001b[0mcurrent_negated\u001b[0m\u001b[1;33m,\u001b[0m \u001b[0mconnector\u001b[0m\u001b[1;33m=\u001b[0m\u001b[0mconnector\u001b[0m\u001b[1;33m,\u001b[0m\u001b[1;33m\u001b[0m\u001b[0m\n\u001b[1;32m-> 1253\u001b[1;33m                     \u001b[0mallow_joins\u001b[0m\u001b[1;33m=\u001b[0m\u001b[0mallow_joins\u001b[0m\u001b[1;33m,\u001b[0m \u001b[0msplit_subq\u001b[0m\u001b[1;33m=\u001b[0m\u001b[0msplit_subq\u001b[0m\u001b[1;33m,\u001b[0m\u001b[1;33m\u001b[0m\u001b[0m\n\u001b[0m\u001b[0;32m   1254\u001b[0m                 )\n\u001b[0;32m   1255\u001b[0m                 \u001b[0mjoinpromoter\u001b[0m\u001b[1;33m.\u001b[0m\u001b[0madd_votes\u001b[0m\u001b[1;33m(\u001b[0m\u001b[0mneeded_inner\u001b[0m\u001b[1;33m)\u001b[0m\u001b[1;33m\u001b[0m\u001b[0m\n",
      "\u001b[1;32mC:\\Program Files (x86)\\Python36-32\\lib\\site-packages\\django\\db\\models\\sql\\query.py\u001b[0m in \u001b[0;36mbuild_filter\u001b[1;34m(self, filter_expr, branch_negated, current_negated, can_reuse, connector, allow_joins, split_subq)\u001b[0m\n\u001b[0;32m   1185\u001b[0m         \u001b[1;32melse\u001b[0m\u001b[1;33m:\u001b[0m\u001b[1;33m\u001b[0m\u001b[0m\n\u001b[0;32m   1186\u001b[0m             \u001b[0mcol\u001b[0m \u001b[1;33m=\u001b[0m \u001b[0mtargets\u001b[0m\u001b[1;33m[\u001b[0m\u001b[1;36m0\u001b[0m\u001b[1;33m]\u001b[0m\u001b[1;33m.\u001b[0m\u001b[0mget_col\u001b[0m\u001b[1;33m(\u001b[0m\u001b[0malias\u001b[0m\u001b[1;33m,\u001b[0m \u001b[0mfield\u001b[0m\u001b[1;33m)\u001b[0m\u001b[1;33m\u001b[0m\u001b[0m\n\u001b[1;32m-> 1187\u001b[1;33m             \u001b[0mcondition\u001b[0m \u001b[1;33m=\u001b[0m \u001b[0mself\u001b[0m\u001b[1;33m.\u001b[0m\u001b[0mbuild_lookup\u001b[0m\u001b[1;33m(\u001b[0m\u001b[0mlookups\u001b[0m\u001b[1;33m,\u001b[0m \u001b[0mcol\u001b[0m\u001b[1;33m,\u001b[0m \u001b[0mvalue\u001b[0m\u001b[1;33m)\u001b[0m\u001b[1;33m\u001b[0m\u001b[0m\n\u001b[0m\u001b[0;32m   1188\u001b[0m             \u001b[0mlookup_type\u001b[0m \u001b[1;33m=\u001b[0m \u001b[0mcondition\u001b[0m\u001b[1;33m.\u001b[0m\u001b[0mlookup_name\u001b[0m\u001b[1;33m\u001b[0m\u001b[0m\n\u001b[0;32m   1189\u001b[0m \u001b[1;33m\u001b[0m\u001b[0m\n",
      "\u001b[1;32mC:\\Program Files (x86)\\Python36-32\\lib\\site-packages\\django\\db\\models\\sql\\query.py\u001b[0m in \u001b[0;36mbuild_lookup\u001b[1;34m(self, lookups, lhs, rhs)\u001b[0m\n\u001b[0;32m   1079\u001b[0m                     \u001b[1;31m# the name as transform, and do an Exact lookup against\u001b[0m\u001b[1;33m\u001b[0m\u001b[1;33m\u001b[0m\u001b[0m\n\u001b[0;32m   1080\u001b[0m                     \u001b[1;31m# it.\u001b[0m\u001b[1;33m\u001b[0m\u001b[1;33m\u001b[0m\u001b[0m\n\u001b[1;32m-> 1081\u001b[1;33m                     \u001b[0mlhs\u001b[0m \u001b[1;33m=\u001b[0m \u001b[0mself\u001b[0m\u001b[1;33m.\u001b[0m\u001b[0mtry_transform\u001b[0m\u001b[1;33m(\u001b[0m\u001b[0mlhs\u001b[0m\u001b[1;33m,\u001b[0m \u001b[0mname\u001b[0m\u001b[1;33m,\u001b[0m \u001b[0mlookups\u001b[0m\u001b[1;33m)\u001b[0m\u001b[1;33m\u001b[0m\u001b[0m\n\u001b[0m\u001b[0;32m   1082\u001b[0m                     \u001b[0mfinal_lookup\u001b[0m \u001b[1;33m=\u001b[0m \u001b[0mlhs\u001b[0m\u001b[1;33m.\u001b[0m\u001b[0mget_lookup\u001b[0m\u001b[1;33m(\u001b[0m\u001b[1;34m'exact'\u001b[0m\u001b[1;33m)\u001b[0m\u001b[1;33m\u001b[0m\u001b[0m\n\u001b[0;32m   1083\u001b[0m                 \u001b[1;32mreturn\u001b[0m \u001b[0mfinal_lookup\u001b[0m\u001b[1;33m(\u001b[0m\u001b[0mlhs\u001b[0m\u001b[1;33m,\u001b[0m \u001b[0mrhs\u001b[0m\u001b[1;33m)\u001b[0m\u001b[1;33m\u001b[0m\u001b[0m\n",
      "\u001b[1;32mC:\\Program Files (x86)\\Python36-32\\lib\\site-packages\\django\\db\\models\\sql\\query.py\u001b[0m in \u001b[0;36mtry_transform\u001b[1;34m(self, lhs, name, rest_of_lookups)\u001b[0m\n\u001b[0;32m   1097\u001b[0m                 \u001b[1;34m\"Unsupported lookup '%s' for %s or join on the field not \"\u001b[0m\u001b[1;33m\u001b[0m\u001b[0m\n\u001b[0;32m   1098\u001b[0m                 \u001b[1;34m\"permitted.\"\u001b[0m \u001b[1;33m%\u001b[0m\u001b[1;33m\u001b[0m\u001b[0m\n\u001b[1;32m-> 1099\u001b[1;33m                 (name, lhs.output_field.__class__.__name__))\n\u001b[0m\u001b[0;32m   1100\u001b[0m \u001b[1;33m\u001b[0m\u001b[0m\n\u001b[0;32m   1101\u001b[0m     def build_filter(self, filter_expr, branch_negated=False, current_negated=False,\n",
      "\u001b[1;31mFieldError\u001b[0m: Unsupported lookup 'incontains' for CharField or join on the field not permitted."
     ]
    }
   ],
   "source": [
    "Post.objects.all().filter(title__incontains=\"테스트\")"
   ]
  },
  {
   "cell_type": "code",
   "execution_count": 24,
   "metadata": {},
   "outputs": [
    {
     "data": {
      "text/plain": [
       "blog.models.Post"
      ]
     },
     "execution_count": 24,
     "metadata": {},
     "output_type": "execute_result"
    }
   ],
   "source": [
    "Post"
   ]
  },
  {
   "cell_type": "code",
   "execution_count": 2,
   "metadata": {},
   "outputs": [
    {
     "data": {
      "text/plain": [
       "<QuerySet [<Post: 테스트 상품>, <Post: 테스트 제목>, <Post: 테스트 제목>]>"
      ]
     },
     "execution_count": 2,
     "metadata": {},
     "output_type": "execute_result"
    }
   ],
   "source": [
    "Post.objects.all().filter(title__icontains=\"테스트\")"
   ]
  },
  {
   "cell_type": "code",
   "execution_count": 2,
   "metadata": {},
   "outputs": [
    {
     "name": "stdout",
     "output_type": "stream",
     "text": [
      "【 앵커멘트 】\r\n",
      "전북 익산의 한 초등학교 교사가 한 학생을 지목해 왕따를 하도록 학생들에게 지시했습니다.\r\n",
      "피해 학생은 정신적 충격을 받아 죽고 싶다는 글까지 남겼는데, 학교는 교사만 감싸고 돕니다.\r\n",
      "강세훈 기자가 단독 보도합니다.\r\n",
      "\r\n",
      "\r\n",
      "【 기자 】\r\n",
      "올해 초등학교 3학년이 된 지은이는 5개월째 학교에 가지 못하고 있습니다.\r\n",
      "\r\n",
      "지은이의 심리상태를 조사했더니, 2학년 담임교사에 대한 원망으로 가득 차 있습니다.\r\n",
      "\r\n",
      "수업시간에 학용품을 떨어뜨렸다는 이유로 지은이는 황당한 체벌을 받았습니다.\r\n",
      "\r\n",
      "▶ 인터뷰 : 지은이(가명) / 피해 학생\r\n",
      "- \"선생님이 (나를) 째려보면 반 학생들이 저를 손가락질하면서 제 이름을 불러요.\"\r\n",
      "- \"그럴 때 기분은 어땠어?\"\r\n",
      "- \"창피했어요.\"\r\n",
      "\r\n",
      "해당 교사는 같은 반 학생들에게 지은이와 말을 걸지 말라고도 지시했습니다.\r\n",
      "\r\n",
      "▶ 인터뷰 : 지은이 같은 반 학생\r\n",
      "- \"선생님이 너한테 뭐라고 했어? 왜 나랑 말이 없어. 왜 그랬어?\"\r\n",
      "- \"선생님 때문에….\"\r\n",
      "- \"선생님이 왜?\"\r\n",
      "- \"말 못하게 하잖아. 같이 말하면 막 싫어하잖아.\"\r\n",
      "\r\n",
      "지은이 부모는 여러 번 학교를 찾아갔지만, 교사에게 면박만 당했다고 말합니다.\r\n",
      "\r\n",
      "▶ 인터뷰 : 이현숙 / 지은이 어머니\r\n",
      "- \"제가 앞문으로 찾아뵀다고 선생님이 예의가 없다고, 왜 이렇게 예의가 없냐고 예의를 갖추고 뒷문으로 오라고 화를 냈어요.\"\r\n",
      "\r\n",
      "학교 측은 \"해당 교사가 훈육한 것일 뿐 왕따는 없었다\"며 교사를 감싸고 돕니다.\r\n",
      "\r\n",
      "심지어 \"부모가 아이를 학교에 보내지 않고 있다\"며 동사무소에 아동 학대 신고까지 했습니다.\r\n",
      "\r\n",
      "▶ 인터뷰 : 학교 관계자\r\n",
      "- \"선생님을 변호하는 건 아니지만, 그렇게까지 말씀하셨을까?\"\r\n",
      "\r\n",
      "해당 교사는 문제가 불거지자 병가를 내고 학교에 나오지 않고 있습니다.\r\n",
      "\r\n",
      "MBN뉴스 강세훈입니다.\r\n",
      "\r\n",
      "영상취재 : 조계홍 기자\r\n",
      "영상편집 : 김민지\n",
      "【 앵커멘트 】\r\n",
      "국내 연구진이 원숭이에게 돼지의 각막을 이식해 1년 넘게 정상 기능을 유지하는 데 성공했습니다.\r\n",
      "세계 최초로 이뤄낸 성과인데 각막 손상 때문에 아직 갈 길이 멀긴 하지만 시력을 잃은 사람에게도 희소식이 될 것으로 보입니다.\r\n",
      "신동규 기자입니다.\r\n",
      "\r\n",
      "\r\n",
      "【 기자 】\r\n",
      "의료진이 조심스레 각막을 손질한 뒤 원숭이의 눈에 이식합니다.\r\n",
      "\r\n",
      "면역반응이 없도록 유전자를 제어한 돼지의 각막을 원숭이와 같이 종이 다른 동물에게 이식해도 문제가 없는지 실험한 겁니다.\r\n",
      "\r\n",
      "결과는 성공적으로 지난해 5월 각막을 이식받은 원숭이의 시력은 1년 넘게 지난 지금도 정상 기능을 유지하고 있습니다.\r\n",
      "\r\n",
      "▶ 인터뷰 : 양창범 / 국립축산과학원장\r\n",
      "- \"강한 면역억제제를 투여하지 않고 1년간 각막 이식 기능을 유지하는 세계적으로 유례가 없는 사례이며….\"\r\n",
      "\r\n",
      "WHO에서는 동물의 장기를 사람에게 이식하는 시험을 하기 전에 동물실험 단계에서 8마리에게 이식하고 이 가운데 5마리가 최소 6개월, 1마리는 12개월간 정상기능을 유지해야 한다고 권고합니다.\r\n",
      "\r\n",
      "이 가운데 가장 어렵다고 평가받는 '12개월 정상기능 유지'에 성공한 만큼 각막 이식을 인체에 적용할 날도 한층 가까워졌습니다.\r\n",
      "\r\n",
      "▶ 인터뷰 : 윤익진 / 건국대병원 외과 교수\r\n",
      "- \"(동종 이식보다) 더 심하지 않은 면역억제 치료로 각막이 유지됐다는 것은 향후 임상시험을 적용하는데 많은 걸림돌을 제거했다고 봐야 합니다.\"\r\n",
      "\r\n",
      "평균적으로 6년을 넘게 기다리는 안구 이식 대기자 2천여 명에게도 희소식이 될 것으로 보입니다.\r\n",
      "\r\n",
      "MBN뉴스 신동규입니다.\r\n",
      "\r\n",
      "영상취재 : 이종호 기자\r\n",
      "영상편집 : 이소영\n",
      "김준면이 하연수에게 깜짝 고백을 할 예정입니다. \r\n",
      "\r\n",
      "드라맥스, MBN에서 동시 방송되고 있는 '리치맨'(연출 민두식/극본 황조윤·박정예/제작 iHQ)이 알쏭달쏭한 로맨스로 뜨거운 관심을 모으고 있는 가운데, 오늘(27일) 방송에서는 이유찬(김준면 분)과 김보라(하연수 분)의 애틋한 놀이동산 데이트가 그려집니다.\r\n",
      "\r\n",
      "공개된 사진 속에는 놀이동산의 회전목마 앞에 나란히 앉아 있는 이유찬과 김보라가 포착돼 안방극장의 설렘 지수를 상승시키고 있습니다. \r\n",
      "\r\n",
      "더불어 어릴 적 트라우마로 인해 안면인식장애를 앓던 이유찬이 김보라에 이어 '댄싱 웨일' 직원들의 얼굴까지 기억해내 닫았던 마음의 문을 열었음을 암시한 바, 그동안 혼자서 꽁꽁 숨겨뒀던 비밀을 털어놓으며 김보라를 깜짝 놀라게 만들 예정입니다.\r\n",
      "\r\n",
      "사진 속 이유찬의 표정에는 쓸쓸함이 드리워 벌써부터 가슴을 아리게 하고 있으며, 그의 이야기를 듣는 김보라 역시 짐짓 심각한 낯빛을 하고 있어 더욱 궁금증을 배가시키고 있습니다.\r\n",
      "\r\n",
      "특히 서로의 손을\r\n",
      "\r\n",
      " 포갠 채 오롯이 상대방을 바라보는 두 사람의 모습은 그저 함께 있어주고 바라보는 것만으로도 위안이 되고 있음을 짐작케 합니다.\r\n",
      "\r\n",
      "과연 그의 고백이 알 듯 말 듯한 썸의 기류를 보이던 이들의 심경에 새로운 변화를 가져올지 오늘(27일) 밤 11시 드라맥스와 MBN에서 동시 방송되는 ‘리치맨’ 15회에서 확인할 수 있습니다.\r\n",
      "\r\n",
      "[MBN 온라인뉴스팀]\r\n",
      "Copyright ⓒ MBN(매일방송) 무단전재 및 재배포 금지\r\n",
      "\r\n",
      "화제 뉴스\r\n",
      "[영상] ＇왕따 지시＇ 교사에 멍든 동심, 피해 학생이 남긴 글에는\r\n",
      "[영상] 장사익, JP 영결식서 조가…＇봄날은 간다＇ 불러\r\n",
      "[영상] 사람 눈에 돼지 각막을? 원숭이 눈에 이식했더니…\r\n",
      "＇홍준표 나무＇ 뽑혔다…홍준표 치적 지우기일까\r\n",
      "추자현 근황 공개에 소속사 측 ＂건강 많이 회복된 상태＂\r\n",
      "백광 권영찬 교수 “내가 영업과 마케팅의 전설 만들어 간다”\r\n",
      "아프리카티비(TV) 이슬이, 배고픔에 요염 자태 ‘섹시+큐티’\r\n",
      "\r\n",
      "\r\n",
      "금주의 하이라이트  \r\n",
      "\r\n",
      "  Taboola 후원링크 \r\n",
      "당신이 좋아할 만한 기사\r\n",
      "″정계 은퇴하라″ 정풍 대상자 명단 발표 논란\r\n",
      "단돈 10만원짜리 소형드론이 한국을 강타하고 있습니다. 이유요? 끝내주기 때문입니다.\r\n",
      "Drone-720x\r\n",
      "이재명 형수, 기자회견서 ″거짓말 그만…우리 가족 얘기 더 이상 하지 말아달라″\r\n",
      "이재명 '여배우 스캔들' 발단은 김부선 SNS?...″성남 사는 가짜 총각″\r\n",
      "항공대 '성관계 동영상' 유출…홍대 누드 범인은 동료 모델\r\n",
      "패리스 힐튼 ″성관계 동영상 유출, 성폭행 당한 기분…죽고 싶었다″\r\n",
      "인기영상 시선집중\r\n",
      "엄지의 제왕동영상\r\n",
      "[엄지의 제왕]\r\n",
      "죽음의 찌꺼기! 혈액 속 염증을 제거하라!\r\n",
      "\r\n",
      "생생 정보마당동영상\r\n",
      "[생생 정보마당]\r\n",
      "제철 맞은 블랙푸드가 떴다!\r\n",
      "\r\n",
      "휴먼다큐 사노라면동영상\r\n",
      "[휴먼다큐 사노라면]\r\n",
      "황소고집 황 씨 부자의 소가 뭐길래\r\n",
      "\r\n",
      "생생 정보마당동영상\r\n",
      "[생생 정보마당]\r\n",
      "경남 창녕에서 만난 ＇보라색 보석＇\r\n",
      "\r\n",
      "스타 핫뉴스\r\n",
      "함소원 집공개, 초호화 럭셔리 저택에 누리..함소원 집공개, 초호화 럭셔리 저택에 누리..윤주만 결혼 “7년 이상의 연장선…노력+고..윤주만 결혼 “7년 이상의 연장선…노력+고..박유라 결혼 앞두고 물오른 미모 “꽃보다 ..박유라 결혼 앞두고 물오른 미모 “꽃보다 ..경리, 운동복으로도 감출 수 없는 아찔한 ..경리, 운동복으로도 감출 수 없는 아찔한 ..\n",
      "일용직 근로자로 일하는 김민수 씨(가명, 남 44)는 인력시장을 전전하는 신세다. 김씨가 번 돈은 150만원 남짓. 그나마 50만여 원을 저축은행과 대부업체에 고스란히 토해내고 있다. 3년 전 자녀들의 학비, 어머니의 병원비를 갚으면서 빚을 끌어다 쓰는 다중 채무자로 전락했기 때문이다. 생활비가 부족해 ㄴ또 다른 빚을 지려 했지만 김씨가 최근 방문한 대부업체는 대출을 거부했다. 김씨처럼 무거운 \"빚의 굴레\"에 빠져든 저소득층이 빠르게 늘고 있다.\r\n",
      "\r\n",
      "이런 김씨와 같은 상황에 처한 사람들을 위해 “HS캐피탈”에서 신용등급 대비 최저금리로 추가 생계자금 포함한 최대 8천만원까지 받을 수 있어 화제다. 결국 김씨는 HS캐피탈을 통해 카드할부금 및 불법 사금융 자금까지 갚고 신용도까지 올라가 낮은 이율로 카드사에서 추가 대출도 받으면서 점차 경제적으로 호전되는 상황을 만들어 가고 있다.\n",
      "테스트 내용\n",
      "테스트 내용\n"
     ]
    }
   ],
   "source": [
    "for post in Post.objects.all():\n",
    "    print(post)"
   ]
  },
  {
   "cell_type": "code",
   "execution_count": 5,
   "metadata": {},
   "outputs": [],
   "source": [
    "import random\n",
    "\n",
    "for i in range(1000):\n",
    "    status = random.choice(['d','p','w'])\n",
    "    Post.objects.create(author='geonil', title='제목 #{}'.format(i), content=\"테스트 내용\", status=status)"
   ]
  },
  {
   "cell_type": "code",
   "execution_count": 7,
   "metadata": {},
   "outputs": [
    {
     "data": {
      "text/plain": [
       "3006"
      ]
     },
     "execution_count": 7,
     "metadata": {},
     "output_type": "execute_result"
    }
   ],
   "source": [
    "Post.objects.all().count()"
   ]
  },
  {
   "cell_type": "code",
   "execution_count": 7,
   "metadata": {},
   "outputs": [
    {
     "data": {
      "text/plain": [
       "<QuerySet [<Post: 제목 #1>, <Post: 제목 #3>, <Post: 제목 #10>, <Post: 제목 #11>, <Post: 제목 #12>, <Post: 제목 #13>, <Post: 제목 #14>, <Post: 제목 #15>, <Post: 제목 #16>, <Post: 제목 #17>, <Post: 제목 #18>, <Post: 제목 #19>, <Post: 제목 #21>, <Post: 제목 #23>, <Post: 제목 #31>, <Post: 제목 #33>, <Post: 제목 #41>, <Post: 제목 #43>, <Post: 제목 #51>, <Post: 제목 #53>, '...(remaining elements truncated)...']>"
      ]
     },
     "execution_count": 7,
     "metadata": {},
     "output_type": "execute_result"
    }
   ],
   "source": [
    "Post.objects.filter(Q(title__icontains='1') | Q(title__endswith='3'))"
   ]
  },
  {
   "cell_type": "code",
   "execution_count": 9,
   "metadata": {},
   "outputs": [
    {
     "data": {
      "text/plain": [
       "{'sql': 'SELECT \"blog_post\".\"id\", \"blog_post\".\"author\", \"blog_post\".\"title\", \"blog_post\".\"content\", \"blog_post\".\"tags\", \"blog_post\".\"lnglat\", \"blog_post\".\"status\", \"blog_post\".\"feeling\", \"blog_post\".\"created_at\", \"blog_post\".\"updated_at\" FROM \"blog_post\" WHERE (\"blog_post\".\"title\" LIKE \\'%1%\\' ESCAPE \\'\\\\\\' OR \"blog_post\".\"title\" LIKE \\'%3\\' ESCAPE \\'\\\\\\') LIMIT 21',\n",
       " 'time': '0.001'}"
      ]
     },
     "execution_count": 9,
     "metadata": {},
     "output_type": "execute_result"
    }
   ],
   "source": [
    "from django.db import connection\n",
    "connection.queries[-1]"
   ]
  },
  {
   "cell_type": "code",
   "execution_count": 10,
   "metadata": {},
   "outputs": [],
   "source": [
    "##"
   ]
  },
  {
   "cell_type": "markdown",
   "metadata": {},
   "source": [
    "##슬라이싱"
   ]
  },
  {
   "cell_type": "markdown",
   "metadata": {},
   "source": [
    "##슬라이싱"
   ]
  },
  {
   "cell_type": "code",
   "execution_count": null,
   "metadata": {},
   "outputs": [],
   "source": []
  },
  {
   "cell_type": "code",
   "execution_count": null,
   "metadata": {},
   "outputs": [],
   "source": []
  },
  {
   "cell_type": "code",
   "execution_count": null,
   "metadata": {},
   "outputs": [],
   "source": []
  },
  {
   "cell_type": "code",
   "execution_count": null,
   "metadata": {},
   "outputs": [],
   "source": []
  },
  {
   "cell_type": "code",
   "execution_count": null,
   "metadata": {},
   "outputs": [],
   "source": []
  },
  {
   "cell_type": "markdown",
   "metadata": {},
   "source": [
    "##슬라이싱"
   ]
  },
  {
   "cell_type": "code",
   "execution_count": null,
   "metadata": {},
   "outputs": [],
   "source": [
    "mynumber"
   ]
  }
 ],
 "metadata": {
  "kernelspec": {
   "display_name": "Django Shell-Plus",
   "language": "python",
   "name": "django_extensions"
  },
  "language_info": {
   "codemirror_mode": {
    "name": "ipython",
    "version": 3
   },
   "file_extension": ".py",
   "mimetype": "text/x-python",
   "name": "python",
   "nbconvert_exporter": "python",
   "pygments_lexer": "ipython3",
   "version": "3.6.5"
  }
 },
 "nbformat": 4,
 "nbformat_minor": 2
}
